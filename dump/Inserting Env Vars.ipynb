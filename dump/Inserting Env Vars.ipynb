{
 "cells": [
  {
   "cell_type": "markdown",
   "id": "ef59b1aa-69bb-4e1e-ae1c-feb2353bf41a",
   "metadata": {},
   "source": [
    "## Example: `%set_env`"
   ]
  },
  {
   "cell_type": "code",
   "execution_count": null,
   "id": "7c73a9fb-bd43-4fb4-a9b5-fb836867dbe6",
   "metadata": {
    "tags": []
   },
   "outputs": [],
   "source": [
    "import os"
   ]
  },
  {
   "cell_type": "markdown",
   "id": "dd195b33-658a-4e86-a700-e6a8b5f4a7f3",
   "metadata": {
    "tags": []
   },
   "source": [
    "### Insert AWS Credentials Here"
   ]
  },
  {
   "cell_type": "code",
   "execution_count": null,
   "id": "ac3ab278-4003-4c30-bf5e-a66937297d2d",
   "metadata": {
    "tags": []
   },
   "outputs": [],
   "source": [
    "%set_env AWS_ACCESS_KEY_ID=BcuLo6BL6n_rLs6Z\n",
    "%set_env AWS_DEFAULT_REGION=us\n",
    "%set_env AWS_S3_BUCKET=models\n",
    "%set_env AWS_S3_ENDPOINT=http://minio.minio.svc:9000\n",
    "%set_env AWS_SECRET_ACCESS_KEY=Q_9cE5-SpZgQVH9RwPuoLpxG1flspFap"
   ]
  },
  {
   "cell_type": "code",
   "execution_count": null,
   "id": "9818f8a8-2392-481a-92c6-d5221c4cf535",
   "metadata": {
    "tags": []
   },
   "outputs": [],
   "source": [
    "# python native\n",
    "os.getenv('AWS_S3_BUCKET')"
   ]
  },
  {
   "cell_type": "code",
   "execution_count": null,
   "id": "0530fb64-904c-45a5-b4e0-62c923971ae5",
   "metadata": {
    "tags": []
   },
   "outputs": [],
   "source": [
    "# python native\n",
    "os.environ"
   ]
  },
  {
   "cell_type": "markdown",
   "id": "00f623dc-4a4c-4986-a72a-0442899aa711",
   "metadata": {},
   "source": [
    "## Example: `dotenv` library"
   ]
  },
  {
   "cell_type": "code",
   "execution_count": null,
   "id": "25fd3f25",
   "metadata": {},
   "outputs": [],
   "source": [
    "!pip install python-dotenv -q"
   ]
  },
  {
   "cell_type": "code",
   "execution_count": null,
   "id": "17cabb8a-08de-40f7-9cd7-d83d1d08fb79",
   "metadata": {
    "tags": []
   },
   "outputs": [],
   "source": [
    "from dotenv import load_dotenv\n",
    "load_dotenv()"
   ]
  },
  {
   "cell_type": "code",
   "execution_count": null,
   "id": "31ffdc79",
   "metadata": {},
   "outputs": [],
   "source": [
    "%%writefile .env\n",
    "\n",
    "AWS_ACCESS_KEY_ID=BcuLo6BL6n_rLs6Z\n",
    "AWS_DEFAULT_REGION=us\n",
    "AWS_S3_BUCKET=models\n",
    "AWS_S3_ENDPOINT='http://minio.minio.svc:9000'\n",
    "AWS_SECRET_ACCESS_KEY=Q_9cE5-SpZgQVH9RwPuoLpxG1flspFap"
   ]
  },
  {
   "cell_type": "markdown",
   "id": "58089039",
   "metadata": {},
   "source": [
    "## Example: `getpass`"
   ]
  },
  {
   "cell_type": "code",
   "execution_count": null,
   "id": "e6a1a3ad",
   "metadata": {},
   "outputs": [],
   "source": [
    "import os, getpass"
   ]
  },
  {
   "cell_type": "code",
   "execution_count": null,
   "id": "331ea8f9",
   "metadata": {},
   "outputs": [],
   "source": [
    "AWS_ACCESS_KEY_ID = getpass.getpass()"
   ]
  },
  {
   "cell_type": "code",
   "execution_count": null,
   "id": "054c33eb",
   "metadata": {},
   "outputs": [],
   "source": [
    "os.environ['AWS_ACCESS_KEY_ID'] = AWS_ACCESS_KEY_ID"
   ]
  },
  {
   "cell_type": "markdown",
   "id": "9a7f224b-d0ff-43fb-89af-ca746d1ce22f",
   "metadata": {
    "tags": []
   },
   "source": [
    "## Verify Env Vars"
   ]
  },
  {
   "cell_type": "code",
   "execution_count": null,
   "id": "78b145a7-7ad6-4d47-8596-8fd3b15ae39d",
   "metadata": {
    "tags": []
   },
   "outputs": [],
   "source": [
    "# run in subshell\n",
    "!set | grep AWS"
   ]
  },
  {
   "cell_type": "code",
   "execution_count": null,
   "id": "767a31e2-0149-4b67-a997-a245d57e3c22",
   "metadata": {
    "tags": []
   },
   "outputs": [],
   "source": [
    "# python magic command\n",
    "%env"
   ]
  }
 ],
 "metadata": {
  "kernelspec": {
   "display_name": "Python 3.9",
   "language": "python",
   "name": "python3"
  },
  "language_info": {
   "codemirror_mode": {
    "name": "ipython",
    "version": 3
   },
   "file_extension": ".py",
   "mimetype": "text/x-python",
   "name": "python",
   "nbconvert_exporter": "python",
   "pygments_lexer": "ipython3",
   "version": "3.12.2"
  }
 },
 "nbformat": 4,
 "nbformat_minor": 5
}
